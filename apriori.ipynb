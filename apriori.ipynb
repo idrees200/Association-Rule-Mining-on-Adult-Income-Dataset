{
  "nbformat": 4,
  "nbformat_minor": 0,
  "metadata": {
    "colab": {
      "provenance": []
    },
    "kernelspec": {
      "name": "python3",
      "display_name": "Python 3"
    },
    "language_info": {
      "name": "python"
    }
  },
  "cells": [
    {
      "cell_type": "code",
      "source": [
        "import pandas as pd\n",
        "from sklearn.preprocessing import OneHotEncoder\n",
        "from mlxtend.frequent_patterns import apriori, association_rules"
      ],
      "metadata": {
        "colab": {
          "base_uri": "https://localhost:8080/"
        },
        "id": "irOSET7QvvS2",
        "outputId": "69d59539-be95-4e10-ab59-384fdee02ddd"
      },
      "execution_count": null,
      "outputs": [
        {
          "output_type": "stream",
          "name": "stderr",
          "text": [
            "/usr/local/lib/python3.10/dist-packages/ipykernel/ipkernel.py:283: DeprecationWarning: `should_run_async` will not call `transform_cell` automatically in the future. Please pass the result to `transformed_cell` argument and any exception that happen during thetransform in `preprocessing_exc_tuple` in IPython 7.17 and above.\n",
            "  and should_run_async(code)\n"
          ]
        }
      ]
    },
    {
      "cell_type": "code",
      "source": [
        "data = pd.read_csv(\"DATA.csv\", header=None)"
      ],
      "metadata": {
        "colab": {
          "base_uri": "https://localhost:8080/"
        },
        "id": "sJQ1d5bHvyoO",
        "outputId": "016864f0-0ae7-40ae-ac85-e2af18adc5f9"
      },
      "execution_count": null,
      "outputs": [
        {
          "output_type": "stream",
          "name": "stderr",
          "text": [
            "/usr/local/lib/python3.10/dist-packages/ipykernel/ipkernel.py:283: DeprecationWarning: `should_run_async` will not call `transform_cell` automatically in the future. Please pass the result to `transformed_cell` argument and any exception that happen during thetransform in `preprocessing_exc_tuple` in IPython 7.17 and above.\n",
            "  and should_run_async(code)\n"
          ]
        }
      ]
    },
    {
      "cell_type": "code",
      "source": [
        "data.replace(' ?', pd.NA, inplace=True)\n",
        "data.dropna(inplace=True)"
      ],
      "metadata": {
        "colab": {
          "base_uri": "https://localhost:8080/"
        },
        "id": "pTvbLGrwv0zY",
        "outputId": "297cf381-b187-4e35-adca-3034b1768c24"
      },
      "execution_count": null,
      "outputs": [
        {
          "output_type": "stream",
          "name": "stderr",
          "text": [
            "/usr/local/lib/python3.10/dist-packages/ipykernel/ipkernel.py:283: DeprecationWarning: `should_run_async` will not call `transform_cell` automatically in the future. Please pass the result to `transformed_cell` argument and any exception that happen during thetransform in `preprocessing_exc_tuple` in IPython 7.17 and above.\n",
            "  and should_run_async(code)\n"
          ]
        }
      ]
    },
    {
      "cell_type": "code",
      "source": [
        "columns = [\n",
        "    'age', 'workclass', 'fnlwgt', 'education', 'education-num', 'marital-status',\n",
        "    'occupation', 'relationship', 'race', 'sex', 'capital-gain', 'capital-loss',\n",
        "    'hours-per-week', 'native-country', 'income'\n",
        "]\n",
        "data.columns = columns\n",
        "categorical_cols = ['workclass', 'education', 'marital-status', 'occupation', 'relationship', 'race', 'sex', 'native-country']\n",
        "continuous_cols = ['age', 'fnlwgt', 'education-num', 'capital-gain', 'capital-loss', 'hours-per-week']"
      ],
      "metadata": {
        "colab": {
          "base_uri": "https://localhost:8080/"
        },
        "id": "QkMFztXdv1Z-",
        "outputId": "b9294b7f-62cc-4c2f-f21d-e0c3ba0446d1"
      },
      "execution_count": null,
      "outputs": [
        {
          "output_type": "stream",
          "name": "stderr",
          "text": [
            "/usr/local/lib/python3.10/dist-packages/ipykernel/ipkernel.py:283: DeprecationWarning: `should_run_async` will not call `transform_cell` automatically in the future. Please pass the result to `transformed_cell` argument and any exception that happen during thetransform in `preprocessing_exc_tuple` in IPython 7.17 and above.\n",
            "  and should_run_async(code)\n"
          ]
        }
      ]
    },
    {
      "cell_type": "code",
      "source": [
        "print(data.head())"
      ],
      "metadata": {
        "colab": {
          "base_uri": "https://localhost:8080/"
        },
        "id": "oiEQRuecwPN5",
        "outputId": "4d20e923-60ba-4b2b-e42c-28ea57120f1d"
      },
      "execution_count": null,
      "outputs": [
        {
          "output_type": "stream",
          "name": "stdout",
          "text": [
            "   age          workclass  fnlwgt   education  education-num  \\\n",
            "0   39          State-gov   77516   Bachelors             13   \n",
            "1   50   Self-emp-not-inc   83311   Bachelors             13   \n",
            "2   38            Private  215646     HS-grad              9   \n",
            "3   53            Private  234721        11th              7   \n",
            "4   28            Private  338409   Bachelors             13   \n",
            "\n",
            "        marital-status          occupation    relationship    race      sex  \\\n",
            "0        Never-married        Adm-clerical   Not-in-family   White     Male   \n",
            "1   Married-civ-spouse     Exec-managerial         Husband   White     Male   \n",
            "2             Divorced   Handlers-cleaners   Not-in-family   White     Male   \n",
            "3   Married-civ-spouse   Handlers-cleaners         Husband   Black     Male   \n",
            "4   Married-civ-spouse      Prof-specialty            Wife   Black   Female   \n",
            "\n",
            "   capital-gain  capital-loss  hours-per-week  native-country  income  \n",
            "0          2174             0              40   United-States   <=50K  \n",
            "1             0             0              13   United-States   <=50K  \n",
            "2             0             0              40   United-States   <=50K  \n",
            "3             0             0              40   United-States   <=50K  \n",
            "4             0             0              40            Cuba   <=50K  \n"
          ]
        },
        {
          "output_type": "stream",
          "name": "stderr",
          "text": [
            "/usr/local/lib/python3.10/dist-packages/ipykernel/ipkernel.py:283: DeprecationWarning: `should_run_async` will not call `transform_cell` automatically in the future. Please pass the result to `transformed_cell` argument and any exception that happen during thetransform in `preprocessing_exc_tuple` in IPython 7.17 and above.\n",
            "  and should_run_async(code)\n"
          ]
        }
      ]
    },
    {
      "cell_type": "code",
      "source": [
        "encoder = OneHotEncoder(sparse=False, drop='first')\n",
        "encoded_categorical_cols = pd.DataFrame(encoder.fit_transform(data[categorical_cols]))\n",
        "encoded_categorical_cols.columns = encoder.get_feature_names_out(categorical_cols)\n",
        "encoded_categorical_cols.fillna(False, inplace=True)"
      ],
      "metadata": {
        "colab": {
          "base_uri": "https://localhost:8080/"
        },
        "id": "zhrlXPvcv65f",
        "outputId": "39463f8f-8cd3-40b3-8092-eb005ab5044b"
      },
      "execution_count": null,
      "outputs": [
        {
          "output_type": "stream",
          "name": "stderr",
          "text": [
            "/usr/local/lib/python3.10/dist-packages/ipykernel/ipkernel.py:283: DeprecationWarning: `should_run_async` will not call `transform_cell` automatically in the future. Please pass the result to `transformed_cell` argument and any exception that happen during thetransform in `preprocessing_exc_tuple` in IPython 7.17 and above.\n",
            "  and should_run_async(code)\n",
            "/usr/local/lib/python3.10/dist-packages/sklearn/preprocessing/_encoders.py:868: FutureWarning: `sparse` was renamed to `sparse_output` in version 1.2 and will be removed in 1.4. `sparse_output` is ignored unless you leave `sparse` to its default value.\n",
            "  warnings.warn(\n"
          ]
        }
      ]
    },
    {
      "cell_type": "code",
      "source": [
        "preprocessed_data = pd.concat([encoded_categorical_cols, data[continuous_cols]], axis=1)\n",
        "preprocessed_data = preprocessed_data.astype(bool)"
      ],
      "metadata": {
        "colab": {
          "base_uri": "https://localhost:8080/"
        },
        "id": "IDVFHKv3v-K-",
        "outputId": "ddbdd766-1961-4cf2-fcd6-2e3efbd72333"
      },
      "execution_count": null,
      "outputs": [
        {
          "output_type": "stream",
          "name": "stderr",
          "text": [
            "/usr/local/lib/python3.10/dist-packages/ipykernel/ipkernel.py:283: DeprecationWarning: `should_run_async` will not call `transform_cell` automatically in the future. Please pass the result to `transformed_cell` argument and any exception that happen during thetransform in `preprocessing_exc_tuple` in IPython 7.17 and above.\n",
            "  and should_run_async(code)\n"
          ]
        }
      ]
    },
    {
      "cell_type": "code",
      "source": [
        "support_values = [0.1, 0.2]\n",
        "confidence_values = [0.7, 0.8]"
      ],
      "metadata": {
        "colab": {
          "base_uri": "https://localhost:8080/"
        },
        "id": "7d70mefuv_w2",
        "outputId": "8bd4be8e-173e-41da-f839-e581586f9fca"
      },
      "execution_count": null,
      "outputs": [
        {
          "output_type": "stream",
          "name": "stderr",
          "text": [
            "/usr/local/lib/python3.10/dist-packages/ipykernel/ipkernel.py:283: DeprecationWarning: `should_run_async` will not call `transform_cell` automatically in the future. Please pass the result to `transformed_cell` argument and any exception that happen during thetransform in `preprocessing_exc_tuple` in IPython 7.17 and above.\n",
            "  and should_run_async(code)\n"
          ]
        }
      ]
    },
    {
      "cell_type": "code",
      "source": [
        "interest_values = [0.1, 0.2]\n",
        "for support in support_values:\n",
        "    for confidence in confidence_values:\n",
        "        frequent_itemsets_confidence = apriori(encoded_categorical_cols, min_support=support, use_colnames=True)\n",
        "        rules_confidence = association_rules(frequent_itemsets_confidence, metric=\"confidence\", min_threshold=confidence)\n",
        "        top_10_confidence_rules = rules_confidence.nlargest(10, 'confidence')\n",
        "        print(f\"\\nTop 10 Association Rules based on Confidence (Support={support}, Confidence={confidence}):\")\n",
        "        print(top_10_confidence_rules)\n",
        "        print(\"Explanation and Recommendations:\")\n",
        "        frequent_itemsets_lift = apriori(encoded_categorical_cols, min_support=support, use_colnames=True)\n",
        "        rules_lift = association_rules(frequent_itemsets_lift, metric=\"lift\", min_threshold=1.2)\n",
        "        top_10_lift_rules = rules_lift.nlargest(10, 'lift')\n",
        "        print(f\"\\nTop 10 Association Rules based on Lift (Support={support}):\")\n",
        "        print(top_10_lift_rules)\n",
        "        for interest in interest_values:\n",
        "            frequent_itemsets_interest = apriori(encoded_categorical_cols, min_support=support, use_colnames=True)\n",
        "            rules_interest = association_rules(frequent_itemsets_interest, metric=\"leverage\", min_threshold=interest)\n",
        "            rules_interest['leverage'] = pd.to_numeric(rules_interest['leverage'])  # Convert leverage to numeric\n",
        "            top_10_interest_rules = rules_interest.nlargest(10, 'leverage')\n",
        "            print(f\"\\nTop 10 Association Rules based on Interest (Support={support}, Interest={interest}):\")\n",
        "            print(top_10_interest_rules)\n",
        "        frequent_itemsets_conviction = apriori(encoded_categorical_cols, min_support=support, use_colnames=True)\n",
        "        rules_conviction = association_rules(frequent_itemsets_conviction, metric=\"conviction\", min_threshold=1)\n",
        "        top_10_conviction_rules = rules_conviction.nlargest(10, 'conviction')\n",
        "        print(f\"\\nTop 10 Association Rules based on Conviction (Support={support}):\")\n",
        "        print(top_10_conviction_rules)"
      ],
      "metadata": {
        "colab": {
          "base_uri": "https://localhost:8080/"
        },
        "id": "LyatOQveqNft",
        "outputId": "03960628-99c2-4012-9ea2-b2f4abe53fbe"
      },
      "execution_count": null,
      "outputs": [
        {
          "output_type": "stream",
          "name": "stderr",
          "text": [
            "/usr/local/lib/python3.10/dist-packages/ipykernel/ipkernel.py:283: DeprecationWarning: `should_run_async` will not call `transform_cell` automatically in the future. Please pass the result to `transformed_cell` argument and any exception that happen during thetransform in `preprocessing_exc_tuple` in IPython 7.17 and above.\n",
            "  and should_run_async(code)\n",
            "/usr/local/lib/python3.10/dist-packages/mlxtend/frequent_patterns/fpcommon.py:110: DeprecationWarning: DataFrames with non-bool types result in worse computationalperformance and their support might be discontinued in the future.Please use a DataFrame with bool type\n",
            "  warnings.warn(\n"
          ]
        },
        {
          "output_type": "stream",
          "name": "stdout",
          "text": [
            "\n",
            "Top 10 Association Rules based on Confidence (Support=0.1, Confidence=0.7):\n",
            "                                           antecedents  \\\n",
            "146                   (race_ White, occupation_ Sales)   \n",
            "292  (marital-status_ Married-civ-spouse, race_ Whi...   \n",
            "240  (race_ White, education_ Some-college, sex_ Male)   \n",
            "140         (race_ White, occupation_ Exec-managerial)   \n",
            "223     (sex_ Male, race_ White, education_ Bachelors)   \n",
            "254  (relationship_ Own-child, marital-status_ Neve...   \n",
            "105             (race_ White, education_ Some-college)   \n",
            "230  (marital-status_ Married-civ-spouse, race_ Whi...   \n",
            "262  (native-country_ United-States, race_ White, o...   \n",
            "237       (race_ White, education_ HS-grad, sex_ Male)   \n",
            "\n",
            "                         consequents  antecedent support  consequent support  \\\n",
            "146  (native-country_ United-States)            0.105829            0.911876   \n",
            "292  (native-country_ United-States)            0.122770            0.911876   \n",
            "240  (native-country_ United-States)            0.121942            0.911876   \n",
            "140  (native-country_ United-States)            0.119190            0.911876   \n",
            "223  (native-country_ United-States)            0.105630            0.911876   \n",
            "254  (native-country_ United-States)            0.110304            0.911876   \n",
            "105  (native-country_ United-States)            0.189145            0.911876   \n",
            "230  (native-country_ United-States)            0.136231            0.911876   \n",
            "262                      (sex_ Male)            0.112426            0.675685   \n",
            "237  (native-country_ United-States)            0.196373            0.911876   \n",
            "\n",
            "      support  confidence      lift  leverage  conviction  zhangs_metric  \n",
            "146  0.101618    0.960213  1.053008  0.005115    2.214899       0.056298  \n",
            "292  0.117731    0.958952  1.051626  0.005780    2.146866       0.055962  \n",
            "240  0.116836    0.958129  1.050724  0.005640    2.104679       0.054979  \n",
            "140  0.114183    0.957997  1.050579  0.005497    2.098055       0.054658  \n",
            "223  0.101121    0.957313  1.049828  0.004800    2.064437       0.053069  \n",
            "254  0.105530    0.956718  1.049175  0.004946    2.036035       0.052682  \n",
            "105  0.180724    0.955478  1.047815  0.008247    1.979323       0.056278  \n",
            "230  0.130164    0.955464  1.047800  0.005938    1.978700       0.052814  \n",
            "262  0.107287    0.954291  1.412332  0.031323    7.095183       0.328932  \n",
            "237  0.187388    0.954246  1.046465  0.008320    1.926049       0.055252  \n",
            "Explanation and Recommendations:\n"
          ]
        },
        {
          "output_type": "stream",
          "name": "stderr",
          "text": [
            "/usr/local/lib/python3.10/dist-packages/mlxtend/frequent_patterns/fpcommon.py:110: DeprecationWarning: DataFrames with non-bool types result in worse computationalperformance and their support might be discontinued in the future.Please use a DataFrame with bool type\n",
            "  warnings.warn(\n"
          ]
        },
        {
          "output_type": "stream",
          "name": "stdout",
          "text": [
            "\n",
            "Top 10 Association Rules based on Lift (Support=0.1):\n",
            "                                           antecedents  \\\n",
            "89   (native-country_ United-States, marital-status...   \n",
            "96                           (relationship_ Own-child)   \n",
            "135  (native-country_ United-States, marital-status...   \n",
            "136             (relationship_ Own-child, race_ White)   \n",
            "133  (native-country_ United-States, marital-status...   \n",
            "138                          (relationship_ Own-child)   \n",
            "134  (native-country_ United-States, relationship_ ...   \n",
            "137       (marital-status_ Never-married, race_ White)   \n",
            "90   (native-country_ United-States, relationship_ ...   \n",
            "95   (marital-status_ Never-married, workclass_ Pri...   \n",
            "\n",
            "                                           consequents  antecedent support  \\\n",
            "89                           (relationship_ Own-child)            0.241032   \n",
            "96   (native-country_ United-States, marital-status...            0.148067   \n",
            "135             (relationship_ Own-child, race_ White)            0.294278   \n",
            "136  (native-country_ United-States, marital-status...            0.124826   \n",
            "133                          (relationship_ Own-child)            0.248293   \n",
            "138  (native-country_ United-States, marital-status...            0.148067   \n",
            "134       (marital-status_ Never-married, race_ White)            0.138784   \n",
            "137  (native-country_ United-States, relationship_ ...            0.266428   \n",
            "90   (marital-status_ Never-married, workclass_ Pri...            0.138784   \n",
            "95   (native-country_ United-States, relationship_ ...            0.266063   \n",
            "\n",
            "     consequent support   support  confidence      lift  leverage  conviction  \\\n",
            "89             0.148067  0.105364    0.437139  2.952303  0.069675    1.513576   \n",
            "96             0.241032  0.105364    0.711599  2.952303  0.069675    2.631640   \n",
            "135            0.124826  0.105530    0.358607  2.872860  0.068797    1.364491   \n",
            "136            0.294278  0.105530    0.845418  2.872860  0.068797    4.565369   \n",
            "133            0.148067  0.105530    0.425023  2.870478  0.068766    1.481683   \n",
            "138            0.248293  0.105530    0.712718  2.870478  0.068766    2.616622   \n",
            "134            0.266428  0.105530    0.760392  2.854024  0.068554    3.061548   \n",
            "137            0.138784  0.105530    0.396093  2.854024  0.068554    1.426073   \n",
            "90             0.266063  0.105364    0.759197  2.853447  0.068439    3.047876   \n",
            "95             0.138784  0.105364    0.396012  2.853447  0.068439    1.425884   \n",
            "\n",
            "     zhangs_metric  \n",
            "89        0.871290  \n",
            "96        0.776213  \n",
            "135       0.923755  \n",
            "136       0.744897  \n",
            "133       0.866861  \n",
            "138       0.764879  \n",
            "134       0.754303  \n",
            "137       0.885554  \n",
            "90        0.754220  \n",
            "95        0.885017  \n"
          ]
        },
        {
          "output_type": "stream",
          "name": "stderr",
          "text": [
            "/usr/local/lib/python3.10/dist-packages/mlxtend/frequent_patterns/fpcommon.py:110: DeprecationWarning: DataFrames with non-bool types result in worse computationalperformance and their support might be discontinued in the future.Please use a DataFrame with bool type\n",
            "  warnings.warn(\n"
          ]
        },
        {
          "output_type": "stream",
          "name": "stdout",
          "text": [
            "\n",
            "Top 10 Association Rules based on Interest (Support=0.1, Interest=0.1):\n",
            "                                         antecedents  \\\n",
            "0               (marital-status_ Married-civ-spouse)   \n",
            "1                                        (sex_ Male)   \n",
            "2  (marital-status_ Married-civ-spouse, native-co...   \n",
            "3                           (race_ White, sex_ Male)   \n",
            "\n",
            "                                         consequents  antecedent support  \\\n",
            "0                                        (sex_ Male)            0.466315   \n",
            "1               (marital-status_ Married-civ-spouse)            0.675685   \n",
            "2                           (race_ White, sex_ Male)            0.424309   \n",
            "3  (marital-status_ Married-civ-spouse, native-co...            0.598037   \n",
            "\n",
            "   consequent support   support  confidence      lift  leverage  conviction  \\\n",
            "0            0.675685  0.417247    0.894774  1.324248  0.102165    3.082092   \n",
            "1            0.466315  0.417247    0.617517  1.324248  0.102165    1.395317   \n",
            "2            0.598037  0.355116    0.836928  1.399457  0.101363    2.464935   \n",
            "3            0.424309  0.355116    0.593802  1.399457  0.101363    1.417268   \n",
            "\n",
            "   zhangs_metric  \n",
            "0       0.458800  \n",
            "1       0.754989  \n",
            "2       0.495817  \n",
            "3       0.710109  \n"
          ]
        },
        {
          "output_type": "stream",
          "name": "stderr",
          "text": [
            "/usr/local/lib/python3.10/dist-packages/mlxtend/frequent_patterns/fpcommon.py:110: DeprecationWarning: DataFrames with non-bool types result in worse computationalperformance and their support might be discontinued in the future.Please use a DataFrame with bool type\n",
            "  warnings.warn(\n"
          ]
        },
        {
          "output_type": "stream",
          "name": "stdout",
          "text": [
            "\n",
            "Top 10 Association Rules based on Interest (Support=0.1, Interest=0.2):\n",
            "Empty DataFrame\n",
            "Columns: [antecedents, consequents, antecedent support, consequent support, support, confidence, lift, leverage, conviction, zhangs_metric]\n",
            "Index: []\n"
          ]
        },
        {
          "output_type": "stream",
          "name": "stderr",
          "text": [
            "/usr/local/lib/python3.10/dist-packages/mlxtend/frequent_patterns/fpcommon.py:110: DeprecationWarning: DataFrames with non-bool types result in worse computationalperformance and their support might be discontinued in the future.Please use a DataFrame with bool type\n",
            "  warnings.warn(\n"
          ]
        },
        {
          "output_type": "stream",
          "name": "stdout",
          "text": [
            "\n",
            "Top 10 Association Rules based on Conviction (Support=0.1):\n",
            "                                           antecedents  \\\n",
            "605  (native-country_ United-States, race_ White, o...   \n",
            "249            (race_ White, occupation_ Craft-repair)   \n",
            "415  (native-country_ United-States, relationship_ ...   \n",
            "261  (native-country_ United-States, occupation_ Cr...   \n",
            "37                          (occupation_ Craft-repair)   \n",
            "103      (relationship_ Own-child, workclass_ Private)   \n",
            "587  (native-country_ United-States, relationship_ ...   \n",
            "236             (relationship_ Own-child, race_ White)   \n",
            "240  (native-country_ United-States, relationship_ ...   \n",
            "30                           (relationship_ Own-child)   \n",
            "\n",
            "                         consequents  antecedent support  consequent support  \\\n",
            "605                      (sex_ Male)            0.112426            0.675685   \n",
            "249                      (sex_ Male)            0.120814            0.675685   \n",
            "415  (marital-status_ Never-married)            0.118427            0.322459   \n",
            "261                      (sex_ Male)            0.122174            0.675685   \n",
            "37                       (sex_ Male)            0.133612            0.675685   \n",
            "103  (marital-status_ Never-married)            0.126517            0.322459   \n",
            "587  (marital-status_ Never-married)            0.119057            0.322459   \n",
            "236  (marital-status_ Never-married)            0.124826            0.322459   \n",
            "240  (marital-status_ Never-married)            0.138784            0.322459   \n",
            "30   (marital-status_ Never-married)            0.148067            0.322459   \n",
            "\n",
            "      support  confidence      lift  leverage  conviction  zhangs_metric  \n",
            "605  0.107287    0.954291  1.412332  0.031323    7.095183       0.328932  \n",
            "249  0.115244    0.953897  1.411749  0.033612    7.034555       0.331737  \n",
            "415  0.105364    0.889698  2.759106  0.067176    6.142582       0.723212  \n",
            "261  0.115675    0.946811  1.401262  0.033125    6.097460       0.326212  \n",
            "37   0.126451    0.946402  1.400656  0.036171    6.050884       0.330163  \n",
            "103  0.112161    0.886530  2.749283  0.071365    5.971126       0.728427  \n",
            "587  0.105530    0.886383  2.748825  0.067139    5.963360       0.722190  \n",
            "236  0.110304    0.883665  2.740398  0.070053    5.824071       0.725672  \n",
            "240  0.122571    0.883182  2.738900  0.077819    5.799975       0.737202  \n",
            "30   0.130263    0.879758  2.728282  0.082518    5.634822       0.743567  \n"
          ]
        },
        {
          "output_type": "stream",
          "name": "stderr",
          "text": [
            "/usr/local/lib/python3.10/dist-packages/mlxtend/frequent_patterns/fpcommon.py:110: DeprecationWarning: DataFrames with non-bool types result in worse computationalperformance and their support might be discontinued in the future.Please use a DataFrame with bool type\n",
            "  warnings.warn(\n"
          ]
        },
        {
          "output_type": "stream",
          "name": "stdout",
          "text": [
            "\n",
            "Top 10 Association Rules based on Confidence (Support=0.1, Confidence=0.8):\n",
            "                                           antecedents  \\\n",
            "113                   (race_ White, occupation_ Sales)   \n",
            "227  (marital-status_ Married-civ-spouse, race_ Whi...   \n",
            "185  (race_ White, education_ Some-college, sex_ Male)   \n",
            "107         (race_ White, occupation_ Exec-managerial)   \n",
            "169     (sex_ Male, race_ White, education_ Bachelors)   \n",
            "198  (relationship_ Own-child, marital-status_ Neve...   \n",
            "74              (race_ White, education_ Some-college)   \n",
            "176  (marital-status_ Married-civ-spouse, race_ Whi...   \n",
            "203  (native-country_ United-States, race_ White, o...   \n",
            "182       (race_ White, education_ HS-grad, sex_ Male)   \n",
            "\n",
            "                         consequents  antecedent support  consequent support  \\\n",
            "113  (native-country_ United-States)            0.105829            0.911876   \n",
            "227  (native-country_ United-States)            0.122770            0.911876   \n",
            "185  (native-country_ United-States)            0.121942            0.911876   \n",
            "107  (native-country_ United-States)            0.119190            0.911876   \n",
            "169  (native-country_ United-States)            0.105630            0.911876   \n",
            "198  (native-country_ United-States)            0.110304            0.911876   \n",
            "74   (native-country_ United-States)            0.189145            0.911876   \n",
            "176  (native-country_ United-States)            0.136231            0.911876   \n",
            "203                      (sex_ Male)            0.112426            0.675685   \n",
            "182  (native-country_ United-States)            0.196373            0.911876   \n",
            "\n",
            "      support  confidence      lift  leverage  conviction  zhangs_metric  \n",
            "113  0.101618    0.960213  1.053008  0.005115    2.214899       0.056298  \n",
            "227  0.117731    0.958952  1.051626  0.005780    2.146866       0.055962  \n",
            "185  0.116836    0.958129  1.050724  0.005640    2.104679       0.054979  \n",
            "107  0.114183    0.957997  1.050579  0.005497    2.098055       0.054658  \n",
            "169  0.101121    0.957313  1.049828  0.004800    2.064437       0.053069  \n",
            "198  0.105530    0.956718  1.049175  0.004946    2.036035       0.052682  \n",
            "74   0.180724    0.955478  1.047815  0.008247    1.979323       0.056278  \n",
            "176  0.130164    0.955464  1.047800  0.005938    1.978700       0.052814  \n",
            "203  0.107287    0.954291  1.412332  0.031323    7.095183       0.328932  \n",
            "182  0.187388    0.954246  1.046465  0.008320    1.926049       0.055252  \n",
            "Explanation and Recommendations:\n"
          ]
        },
        {
          "output_type": "stream",
          "name": "stderr",
          "text": [
            "/usr/local/lib/python3.10/dist-packages/mlxtend/frequent_patterns/fpcommon.py:110: DeprecationWarning: DataFrames with non-bool types result in worse computationalperformance and their support might be discontinued in the future.Please use a DataFrame with bool type\n",
            "  warnings.warn(\n"
          ]
        },
        {
          "output_type": "stream",
          "name": "stdout",
          "text": [
            "\n",
            "Top 10 Association Rules based on Lift (Support=0.1):\n",
            "                                           antecedents  \\\n",
            "89   (native-country_ United-States, marital-status...   \n",
            "96                           (relationship_ Own-child)   \n",
            "135  (native-country_ United-States, marital-status...   \n",
            "136             (relationship_ Own-child, race_ White)   \n",
            "133  (native-country_ United-States, marital-status...   \n",
            "138                          (relationship_ Own-child)   \n",
            "134  (native-country_ United-States, relationship_ ...   \n",
            "137       (marital-status_ Never-married, race_ White)   \n",
            "90   (native-country_ United-States, relationship_ ...   \n",
            "95   (marital-status_ Never-married, workclass_ Pri...   \n",
            "\n",
            "                                           consequents  antecedent support  \\\n",
            "89                           (relationship_ Own-child)            0.241032   \n",
            "96   (native-country_ United-States, marital-status...            0.148067   \n",
            "135             (relationship_ Own-child, race_ White)            0.294278   \n",
            "136  (native-country_ United-States, marital-status...            0.124826   \n",
            "133                          (relationship_ Own-child)            0.248293   \n",
            "138  (native-country_ United-States, marital-status...            0.148067   \n",
            "134       (marital-status_ Never-married, race_ White)            0.138784   \n",
            "137  (native-country_ United-States, relationship_ ...            0.266428   \n",
            "90   (marital-status_ Never-married, workclass_ Pri...            0.138784   \n",
            "95   (native-country_ United-States, relationship_ ...            0.266063   \n",
            "\n",
            "     consequent support   support  confidence      lift  leverage  conviction  \\\n",
            "89             0.148067  0.105364    0.437139  2.952303  0.069675    1.513576   \n",
            "96             0.241032  0.105364    0.711599  2.952303  0.069675    2.631640   \n",
            "135            0.124826  0.105530    0.358607  2.872860  0.068797    1.364491   \n",
            "136            0.294278  0.105530    0.845418  2.872860  0.068797    4.565369   \n",
            "133            0.148067  0.105530    0.425023  2.870478  0.068766    1.481683   \n",
            "138            0.248293  0.105530    0.712718  2.870478  0.068766    2.616622   \n",
            "134            0.266428  0.105530    0.760392  2.854024  0.068554    3.061548   \n",
            "137            0.138784  0.105530    0.396093  2.854024  0.068554    1.426073   \n",
            "90             0.266063  0.105364    0.759197  2.853447  0.068439    3.047876   \n",
            "95             0.138784  0.105364    0.396012  2.853447  0.068439    1.425884   \n",
            "\n",
            "     zhangs_metric  \n",
            "89        0.871290  \n",
            "96        0.776213  \n",
            "135       0.923755  \n",
            "136       0.744897  \n",
            "133       0.866861  \n",
            "138       0.764879  \n",
            "134       0.754303  \n",
            "137       0.885554  \n",
            "90        0.754220  \n",
            "95        0.885017  \n"
          ]
        },
        {
          "output_type": "stream",
          "name": "stderr",
          "text": [
            "/usr/local/lib/python3.10/dist-packages/mlxtend/frequent_patterns/fpcommon.py:110: DeprecationWarning: DataFrames with non-bool types result in worse computationalperformance and their support might be discontinued in the future.Please use a DataFrame with bool type\n",
            "  warnings.warn(\n"
          ]
        },
        {
          "output_type": "stream",
          "name": "stdout",
          "text": [
            "\n",
            "Top 10 Association Rules based on Interest (Support=0.1, Interest=0.1):\n",
            "                                         antecedents  \\\n",
            "0               (marital-status_ Married-civ-spouse)   \n",
            "1                                        (sex_ Male)   \n",
            "2  (marital-status_ Married-civ-spouse, native-co...   \n",
            "3                           (race_ White, sex_ Male)   \n",
            "\n",
            "                                         consequents  antecedent support  \\\n",
            "0                                        (sex_ Male)            0.466315   \n",
            "1               (marital-status_ Married-civ-spouse)            0.675685   \n",
            "2                           (race_ White, sex_ Male)            0.424309   \n",
            "3  (marital-status_ Married-civ-spouse, native-co...            0.598037   \n",
            "\n",
            "   consequent support   support  confidence      lift  leverage  conviction  \\\n",
            "0            0.675685  0.417247    0.894774  1.324248  0.102165    3.082092   \n",
            "1            0.466315  0.417247    0.617517  1.324248  0.102165    1.395317   \n",
            "2            0.598037  0.355116    0.836928  1.399457  0.101363    2.464935   \n",
            "3            0.424309  0.355116    0.593802  1.399457  0.101363    1.417268   \n",
            "\n",
            "   zhangs_metric  \n",
            "0       0.458800  \n",
            "1       0.754989  \n",
            "2       0.495817  \n",
            "3       0.710109  \n"
          ]
        },
        {
          "output_type": "stream",
          "name": "stderr",
          "text": [
            "/usr/local/lib/python3.10/dist-packages/mlxtend/frequent_patterns/fpcommon.py:110: DeprecationWarning: DataFrames with non-bool types result in worse computationalperformance and their support might be discontinued in the future.Please use a DataFrame with bool type\n",
            "  warnings.warn(\n"
          ]
        },
        {
          "output_type": "stream",
          "name": "stdout",
          "text": [
            "\n",
            "Top 10 Association Rules based on Interest (Support=0.1, Interest=0.2):\n",
            "Empty DataFrame\n",
            "Columns: [antecedents, consequents, antecedent support, consequent support, support, confidence, lift, leverage, conviction, zhangs_metric]\n",
            "Index: []\n"
          ]
        },
        {
          "output_type": "stream",
          "name": "stderr",
          "text": [
            "/usr/local/lib/python3.10/dist-packages/mlxtend/frequent_patterns/fpcommon.py:110: DeprecationWarning: DataFrames with non-bool types result in worse computationalperformance and their support might be discontinued in the future.Please use a DataFrame with bool type\n",
            "  warnings.warn(\n"
          ]
        },
        {
          "output_type": "stream",
          "name": "stdout",
          "text": [
            "\n",
            "Top 10 Association Rules based on Conviction (Support=0.1):\n",
            "                                           antecedents  \\\n",
            "605  (native-country_ United-States, race_ White, o...   \n",
            "249            (race_ White, occupation_ Craft-repair)   \n",
            "415  (native-country_ United-States, relationship_ ...   \n",
            "261  (native-country_ United-States, occupation_ Cr...   \n",
            "37                          (occupation_ Craft-repair)   \n",
            "103      (relationship_ Own-child, workclass_ Private)   \n",
            "587  (native-country_ United-States, relationship_ ...   \n",
            "236             (relationship_ Own-child, race_ White)   \n",
            "240  (native-country_ United-States, relationship_ ...   \n",
            "30                           (relationship_ Own-child)   \n",
            "\n",
            "                         consequents  antecedent support  consequent support  \\\n",
            "605                      (sex_ Male)            0.112426            0.675685   \n",
            "249                      (sex_ Male)            0.120814            0.675685   \n",
            "415  (marital-status_ Never-married)            0.118427            0.322459   \n",
            "261                      (sex_ Male)            0.122174            0.675685   \n",
            "37                       (sex_ Male)            0.133612            0.675685   \n",
            "103  (marital-status_ Never-married)            0.126517            0.322459   \n",
            "587  (marital-status_ Never-married)            0.119057            0.322459   \n",
            "236  (marital-status_ Never-married)            0.124826            0.322459   \n",
            "240  (marital-status_ Never-married)            0.138784            0.322459   \n",
            "30   (marital-status_ Never-married)            0.148067            0.322459   \n",
            "\n",
            "      support  confidence      lift  leverage  conviction  zhangs_metric  \n",
            "605  0.107287    0.954291  1.412332  0.031323    7.095183       0.328932  \n",
            "249  0.115244    0.953897  1.411749  0.033612    7.034555       0.331737  \n",
            "415  0.105364    0.889698  2.759106  0.067176    6.142582       0.723212  \n",
            "261  0.115675    0.946811  1.401262  0.033125    6.097460       0.326212  \n",
            "37   0.126451    0.946402  1.400656  0.036171    6.050884       0.330163  \n",
            "103  0.112161    0.886530  2.749283  0.071365    5.971126       0.728427  \n",
            "587  0.105530    0.886383  2.748825  0.067139    5.963360       0.722190  \n",
            "236  0.110304    0.883665  2.740398  0.070053    5.824071       0.725672  \n",
            "240  0.122571    0.883182  2.738900  0.077819    5.799975       0.737202  \n",
            "30   0.130263    0.879758  2.728282  0.082518    5.634822       0.743567  \n",
            "\n",
            "Top 10 Association Rules based on Confidence (Support=0.2, Confidence=0.7):\n",
            "                                          antecedents  \\\n",
            "43                  (race_ White, education_ HS-grad)   \n",
            "66  (race_ White, education_ HS-grad, workclass_ P...   \n",
            "59         (race_ White, relationship_ Not-in-family)   \n",
            "45                    (education_ HS-grad, sex_ Male)   \n",
            "88  (marital-status_ Married-civ-spouse, race_ Whi...   \n",
            "9                           (education_ Some-college)   \n",
            "49  (marital-status_ Married-civ-spouse, race_ White)   \n",
            "8                                (education_ HS-grad)   \n",
            "62                           (race_ White, sex_ Male)   \n",
            "19                                      (race_ White)   \n",
            "\n",
            "                        consequents  antecedent support  consequent support  \\\n",
            "43  (native-country_ United-States)            0.278529            0.911876   \n",
            "66  (native-country_ United-States)            0.217260            0.911876   \n",
            "59  (native-country_ United-States)            0.221338            0.911876   \n",
            "45  (native-country_ United-States)            0.223261            0.911876   \n",
            "88  (native-country_ United-States)            0.378489            0.911876   \n",
            "9   (native-country_ United-States)            0.221404            0.911876   \n",
            "49  (native-country_ United-States)            0.419601            0.911876   \n",
            "8   (native-country_ United-States)            0.326238            0.911876   \n",
            "62  (native-country_ United-States)            0.598037            0.911876   \n",
            "19  (native-country_ United-States)            0.859790            0.911876   \n",
            "\n",
            "     support  confidence      lift  leverage  conviction  zhangs_metric  \n",
            "43  0.264704    0.950363  1.042207  0.010720    1.775374       0.056132  \n",
            "66  0.205689    0.946742  1.038236  0.007575    1.654663       0.047049  \n",
            "59  0.208176    0.940533  1.031427  0.006343    1.481906       0.039130  \n",
            "45  0.209933    0.940303  1.031174  0.006347    1.476189       0.038921  \n",
            "88  0.355116    0.938245  1.028917  0.009980    1.426986       0.045219  \n",
            "9   0.207546    0.937406  1.027998  0.005653    1.407878       0.034980  \n",
            "49  0.393011    0.936631  1.027147  0.010387    1.390647       0.045537  \n",
            "8   0.305318    0.935874  1.026317  0.007829    1.374234       0.038059  \n",
            "62  0.558584    0.934028  1.024293  0.013248    1.335784       0.059003  \n",
            "19  0.802931    0.933868  1.024118  0.018909    1.332550       0.167960  \n",
            "Explanation and Recommendations:\n",
            "\n",
            "Top 10 Association Rules based on Lift (Support=0.2):\n"
          ]
        },
        {
          "output_type": "stream",
          "name": "stderr",
          "text": [
            "/usr/local/lib/python3.10/dist-packages/mlxtend/frequent_patterns/fpcommon.py:110: DeprecationWarning: DataFrames with non-bool types result in worse computationalperformance and their support might be discontinued in the future.Please use a DataFrame with bool type\n",
            "  warnings.warn(\n",
            "/usr/local/lib/python3.10/dist-packages/mlxtend/frequent_patterns/fpcommon.py:110: DeprecationWarning: DataFrames with non-bool types result in worse computationalperformance and their support might be discontinued in the future.Please use a DataFrame with bool type\n",
            "  warnings.warn(\n",
            "/usr/local/lib/python3.10/dist-packages/mlxtend/frequent_patterns/fpcommon.py:110: DeprecationWarning: DataFrames with non-bool types result in worse computationalperformance and their support might be discontinued in the future.Please use a DataFrame with bool type\n",
            "  warnings.warn(\n"
          ]
        },
        {
          "output_type": "stream",
          "name": "stdout",
          "text": [
            "                                          antecedents  \\\n",
            "33  (marital-status_ Married-civ-spouse, native-co...   \n",
            "34                           (race_ White, sex_ Male)   \n",
            "41  (marital-status_ Married-civ-spouse, native-co...   \n",
            "50                           (race_ White, sex_ Male)   \n",
            "35         (native-country_ United-States, sex_ Male)   \n",
            "32  (marital-status_ Married-civ-spouse, race_ White)   \n",
            "31  (native-country_ United-States, race_ White, s...   \n",
            "36               (marital-status_ Married-civ-spouse)   \n",
            "42  (marital-status_ Married-civ-spouse, race_ Whi...   \n",
            "49         (native-country_ United-States, sex_ Male)   \n",
            "\n",
            "                                          consequents  antecedent support  \\\n",
            "33                           (race_ White, sex_ Male)            0.424309   \n",
            "34  (marital-status_ Married-civ-spouse, native-co...            0.598037   \n",
            "41                           (race_ White, sex_ Male)            0.284829   \n",
            "50  (marital-status_ Married-civ-spouse, native-co...            0.598037   \n",
            "35  (marital-status_ Married-civ-spouse, race_ White)            0.615742   \n",
            "32         (native-country_ United-States, sex_ Male)            0.419601   \n",
            "31               (marital-status_ Married-civ-spouse)            0.558584   \n",
            "36  (native-country_ United-States, race_ White, s...            0.466315   \n",
            "42         (native-country_ United-States, sex_ Male)            0.283801   \n",
            "49  (marital-status_ Married-civ-spouse, race_ Whi...            0.615742   \n",
            "\n",
            "    consequent support   support  confidence      lift  leverage  conviction  \\\n",
            "33            0.598037  0.355116    0.836928  1.399457  0.101363    2.464935   \n",
            "34            0.424309  0.355116    0.593802  1.399457  0.101363    1.417268   \n",
            "41            0.598037  0.237318    0.833198  1.393220  0.066980    2.409813   \n",
            "50            0.284829  0.237318    0.396829  1.393220  0.066980    1.185686   \n",
            "35            0.419601  0.355116    0.576728  1.374469  0.096750    1.371222   \n",
            "32            0.615742  0.355116    0.846318  1.374469  0.096750    2.500346   \n",
            "31            0.466315  0.355116    0.635743  1.363333  0.094640    1.465133   \n",
            "36            0.558584  0.355116    0.761536  1.363333  0.094640    1.851080   \n",
            "42            0.615742  0.237318    0.836215  1.358061  0.062570    2.346114   \n",
            "49            0.283801  0.237318    0.385419  1.358061  0.062570    1.165345   \n",
            "\n",
            "    zhangs_metric  \n",
            "33       0.495817  \n",
            "34       0.710109  \n",
            "41       0.394644  \n",
            "50       0.702150  \n",
            "35       0.709019  \n",
            "32       0.469412  \n",
            "31       0.603747  \n",
            "36       0.499365  \n",
            "42       0.368133  \n",
            "49       0.686143  \n",
            "\n",
            "Top 10 Association Rules based on Interest (Support=0.2, Interest=0.1):\n",
            "                                         antecedents  \\\n",
            "0               (marital-status_ Married-civ-spouse)   \n",
            "1                                        (sex_ Male)   \n",
            "2  (marital-status_ Married-civ-spouse, native-co...   \n",
            "3                           (race_ White, sex_ Male)   \n",
            "\n",
            "                                         consequents  antecedent support  \\\n",
            "0                                        (sex_ Male)            0.466315   \n",
            "1               (marital-status_ Married-civ-spouse)            0.675685   \n",
            "2                           (race_ White, sex_ Male)            0.424309   \n",
            "3  (marital-status_ Married-civ-spouse, native-co...            0.598037   \n",
            "\n",
            "   consequent support   support  confidence      lift  leverage  conviction  \\\n",
            "0            0.675685  0.417247    0.894774  1.324248  0.102165    3.082092   \n",
            "1            0.466315  0.417247    0.617517  1.324248  0.102165    1.395317   \n",
            "2            0.598037  0.355116    0.836928  1.399457  0.101363    2.464935   \n",
            "3            0.424309  0.355116    0.593802  1.399457  0.101363    1.417268   \n",
            "\n",
            "   zhangs_metric  \n",
            "0       0.458800  \n",
            "1       0.754989  \n",
            "2       0.495817  \n",
            "3       0.710109  \n",
            "\n",
            "Top 10 Association Rules based on Interest (Support=0.2, Interest=0.2):\n",
            "Empty DataFrame\n",
            "Columns: [antecedents, consequents, antecedent support, consequent support, support, confidence, lift, leverage, conviction, zhangs_metric]\n",
            "Index: []\n"
          ]
        },
        {
          "output_type": "stream",
          "name": "stderr",
          "text": [
            "/usr/local/lib/python3.10/dist-packages/mlxtend/frequent_patterns/fpcommon.py:110: DeprecationWarning: DataFrames with non-bool types result in worse computationalperformance and their support might be discontinued in the future.Please use a DataFrame with bool type\n",
            "  warnings.warn(\n",
            "/usr/local/lib/python3.10/dist-packages/mlxtend/frequent_patterns/fpcommon.py:110: DeprecationWarning: DataFrames with non-bool types result in worse computationalperformance and their support might be discontinued in the future.Please use a DataFrame with bool type\n",
            "  warnings.warn(\n",
            "/usr/local/lib/python3.10/dist-packages/mlxtend/frequent_patterns/fpcommon.py:110: DeprecationWarning: DataFrames with non-bool types result in worse computationalperformance and their support might be discontinued in the future.Please use a DataFrame with bool type\n",
            "  warnings.warn(\n"
          ]
        },
        {
          "output_type": "stream",
          "name": "stdout",
          "text": [
            "\n",
            "Top 10 Association Rules based on Conviction (Support=0.2):\n",
            "                                           antecedents  \\\n",
            "154  (marital-status_ Married-civ-spouse, race_ Whi...   \n",
            "66   (marital-status_ Married-civ-spouse, race_ White)   \n",
            "168  (marital-status_ Married-civ-spouse, race_ Whi...   \n",
            "112  (marital-status_ Married-civ-spouse, race_ Whi...   \n",
            "78   (marital-status_ Married-civ-spouse, native-co...   \n",
            "128  (native-country_ United-States, marital-status...   \n",
            "12                (marital-status_ Married-civ-spouse)   \n",
            "36   (marital-status_ Married-civ-spouse, workclass...   \n",
            "158  (marital-status_ Married-civ-spouse, race_ White)   \n",
            "159  (marital-status_ Married-civ-spouse, native-co...   \n",
            "\n",
            "                                    consequents  antecedent support  \\\n",
            "154                                 (sex_ Male)            0.393011   \n",
            "66                                  (sex_ Male)            0.419601   \n",
            "168                                 (sex_ Male)            0.263311   \n",
            "112                                 (sex_ Male)            0.283801   \n",
            "78                                  (sex_ Male)            0.424309   \n",
            "128                                 (sex_ Male)            0.284829   \n",
            "12                                  (sex_ Male)            0.466315   \n",
            "36                                  (sex_ Male)            0.316624   \n",
            "158  (native-country_ United-States, sex_ Male)            0.419601   \n",
            "159                    (race_ White, sex_ Male)            0.424309   \n",
            "\n",
            "     consequent support   support  confidence      lift  leverage  conviction  \\\n",
            "154            0.675685  0.355116    0.903577  1.337276  0.089564    3.363460   \n",
            "66             0.675685  0.378489    0.902023  1.334976  0.094972    3.310109   \n",
            "168            0.675685  0.237318    0.901284  1.333883  0.059403    3.285348   \n",
            "112            0.675685  0.255255    0.899416  1.331118  0.063495    3.224320   \n",
            "78             0.675685  0.381208    0.898422  1.329646  0.094509    3.192760   \n",
            "128            0.675685  0.254990    0.895239  1.324936  0.062535    3.095770   \n",
            "12             0.675685  0.417247    0.894774  1.324248  0.102165    3.082092   \n",
            "36             0.675685  0.282010    0.890681  1.318190  0.068073    2.966678   \n",
            "158            0.615742  0.355116    0.846318  1.374469  0.096750    2.500346   \n",
            "159            0.598037  0.355116    0.836928  1.399457  0.101363    2.464935   \n",
            "\n",
            "     zhangs_metric  \n",
            "154       0.415512  \n",
            "66        0.432328  \n",
            "168       0.339776  \n",
            "112       0.347322  \n",
            "78        0.430648  \n",
            "128       0.342920  \n",
            "12        0.458800  \n",
            "36        0.353222  \n",
            "158       0.469412  \n",
            "159       0.495817  \n",
            "\n",
            "Top 10 Association Rules based on Confidence (Support=0.2, Confidence=0.8):\n",
            "                                          antecedents  \\\n",
            "31                  (race_ White, education_ HS-grad)   \n",
            "52  (race_ White, education_ HS-grad, workclass_ P...   \n",
            "46         (race_ White, relationship_ Not-in-family)   \n",
            "33                    (education_ HS-grad, sex_ Male)   \n",
            "70  (marital-status_ Married-civ-spouse, race_ Whi...   \n",
            "5                           (education_ Some-college)   \n",
            "37  (marital-status_ Married-civ-spouse, race_ White)   \n",
            "4                                (education_ HS-grad)   \n",
            "49                           (race_ White, sex_ Male)   \n",
            "15                                      (race_ White)   \n",
            "\n",
            "                        consequents  antecedent support  consequent support  \\\n",
            "31  (native-country_ United-States)            0.278529            0.911876   \n",
            "52  (native-country_ United-States)            0.217260            0.911876   \n",
            "46  (native-country_ United-States)            0.221338            0.911876   \n",
            "33  (native-country_ United-States)            0.223261            0.911876   \n",
            "70  (native-country_ United-States)            0.378489            0.911876   \n",
            "5   (native-country_ United-States)            0.221404            0.911876   \n",
            "37  (native-country_ United-States)            0.419601            0.911876   \n",
            "4   (native-country_ United-States)            0.326238            0.911876   \n",
            "49  (native-country_ United-States)            0.598037            0.911876   \n",
            "15  (native-country_ United-States)            0.859790            0.911876   \n",
            "\n",
            "     support  confidence      lift  leverage  conviction  zhangs_metric  \n",
            "31  0.264704    0.950363  1.042207  0.010720    1.775374       0.056132  \n",
            "52  0.205689    0.946742  1.038236  0.007575    1.654663       0.047049  \n",
            "46  0.208176    0.940533  1.031427  0.006343    1.481906       0.039130  \n",
            "33  0.209933    0.940303  1.031174  0.006347    1.476189       0.038921  \n",
            "70  0.355116    0.938245  1.028917  0.009980    1.426986       0.045219  \n",
            "5   0.207546    0.937406  1.027998  0.005653    1.407878       0.034980  \n",
            "37  0.393011    0.936631  1.027147  0.010387    1.390647       0.045537  \n",
            "4   0.305318    0.935874  1.026317  0.007829    1.374234       0.038059  \n",
            "49  0.558584    0.934028  1.024293  0.013248    1.335784       0.059003  \n",
            "15  0.802931    0.933868  1.024118  0.018909    1.332550       0.167960  \n",
            "Explanation and Recommendations:\n",
            "\n",
            "Top 10 Association Rules based on Lift (Support=0.2):\n",
            "                                          antecedents  \\\n",
            "33  (marital-status_ Married-civ-spouse, native-co...   \n",
            "34                           (race_ White, sex_ Male)   \n",
            "41  (marital-status_ Married-civ-spouse, native-co...   \n",
            "50                           (race_ White, sex_ Male)   \n",
            "35         (native-country_ United-States, sex_ Male)   \n",
            "32  (marital-status_ Married-civ-spouse, race_ White)   \n",
            "31  (native-country_ United-States, race_ White, s...   \n",
            "36               (marital-status_ Married-civ-spouse)   \n",
            "42  (marital-status_ Married-civ-spouse, race_ Whi...   \n",
            "49         (native-country_ United-States, sex_ Male)   \n",
            "\n",
            "                                          consequents  antecedent support  \\\n",
            "33                           (race_ White, sex_ Male)            0.424309   \n",
            "34  (marital-status_ Married-civ-spouse, native-co...            0.598037   \n",
            "41                           (race_ White, sex_ Male)            0.284829   \n",
            "50  (marital-status_ Married-civ-spouse, native-co...            0.598037   \n",
            "35  (marital-status_ Married-civ-spouse, race_ White)            0.615742   \n",
            "32         (native-country_ United-States, sex_ Male)            0.419601   \n",
            "31               (marital-status_ Married-civ-spouse)            0.558584   \n",
            "36  (native-country_ United-States, race_ White, s...            0.466315   \n",
            "42         (native-country_ United-States, sex_ Male)            0.283801   \n",
            "49  (marital-status_ Married-civ-spouse, race_ Whi...            0.615742   \n",
            "\n",
            "    consequent support   support  confidence      lift  leverage  conviction  \\\n",
            "33            0.598037  0.355116    0.836928  1.399457  0.101363    2.464935   \n",
            "34            0.424309  0.355116    0.593802  1.399457  0.101363    1.417268   \n",
            "41            0.598037  0.237318    0.833198  1.393220  0.066980    2.409813   \n",
            "50            0.284829  0.237318    0.396829  1.393220  0.066980    1.185686   \n",
            "35            0.419601  0.355116    0.576728  1.374469  0.096750    1.371222   \n",
            "32            0.615742  0.355116    0.846318  1.374469  0.096750    2.500346   \n",
            "31            0.466315  0.355116    0.635743  1.363333  0.094640    1.465133   \n",
            "36            0.558584  0.355116    0.761536  1.363333  0.094640    1.851080   \n",
            "42            0.615742  0.237318    0.836215  1.358061  0.062570    2.346114   \n",
            "49            0.283801  0.237318    0.385419  1.358061  0.062570    1.165345   \n",
            "\n",
            "    zhangs_metric  \n",
            "33       0.495817  \n",
            "34       0.710109  \n",
            "41       0.394644  \n",
            "50       0.702150  \n",
            "35       0.709019  \n",
            "32       0.469412  \n",
            "31       0.603747  \n",
            "36       0.499365  \n",
            "42       0.368133  \n",
            "49       0.686143  \n"
          ]
        },
        {
          "output_type": "stream",
          "name": "stderr",
          "text": [
            "/usr/local/lib/python3.10/dist-packages/mlxtend/frequent_patterns/fpcommon.py:110: DeprecationWarning: DataFrames with non-bool types result in worse computationalperformance and their support might be discontinued in the future.Please use a DataFrame with bool type\n",
            "  warnings.warn(\n",
            "/usr/local/lib/python3.10/dist-packages/mlxtend/frequent_patterns/fpcommon.py:110: DeprecationWarning: DataFrames with non-bool types result in worse computationalperformance and their support might be discontinued in the future.Please use a DataFrame with bool type\n",
            "  warnings.warn(\n",
            "/usr/local/lib/python3.10/dist-packages/mlxtend/frequent_patterns/fpcommon.py:110: DeprecationWarning: DataFrames with non-bool types result in worse computationalperformance and their support might be discontinued in the future.Please use a DataFrame with bool type\n",
            "  warnings.warn(\n"
          ]
        },
        {
          "output_type": "stream",
          "name": "stdout",
          "text": [
            "\n",
            "Top 10 Association Rules based on Interest (Support=0.2, Interest=0.1):\n",
            "                                         antecedents  \\\n",
            "0               (marital-status_ Married-civ-spouse)   \n",
            "1                                        (sex_ Male)   \n",
            "2  (marital-status_ Married-civ-spouse, native-co...   \n",
            "3                           (race_ White, sex_ Male)   \n",
            "\n",
            "                                         consequents  antecedent support  \\\n",
            "0                                        (sex_ Male)            0.466315   \n",
            "1               (marital-status_ Married-civ-spouse)            0.675685   \n",
            "2                           (race_ White, sex_ Male)            0.424309   \n",
            "3  (marital-status_ Married-civ-spouse, native-co...            0.598037   \n",
            "\n",
            "   consequent support   support  confidence      lift  leverage  conviction  \\\n",
            "0            0.675685  0.417247    0.894774  1.324248  0.102165    3.082092   \n",
            "1            0.466315  0.417247    0.617517  1.324248  0.102165    1.395317   \n",
            "2            0.598037  0.355116    0.836928  1.399457  0.101363    2.464935   \n",
            "3            0.424309  0.355116    0.593802  1.399457  0.101363    1.417268   \n",
            "\n",
            "   zhangs_metric  \n",
            "0       0.458800  \n",
            "1       0.754989  \n",
            "2       0.495817  \n",
            "3       0.710109  \n",
            "\n",
            "Top 10 Association Rules based on Interest (Support=0.2, Interest=0.2):\n",
            "Empty DataFrame\n",
            "Columns: [antecedents, consequents, antecedent support, consequent support, support, confidence, lift, leverage, conviction, zhangs_metric]\n",
            "Index: []\n",
            "\n",
            "Top 10 Association Rules based on Conviction (Support=0.2):\n",
            "                                           antecedents  \\\n",
            "154  (marital-status_ Married-civ-spouse, race_ Whi...   \n",
            "66   (marital-status_ Married-civ-spouse, race_ White)   \n",
            "168  (marital-status_ Married-civ-spouse, race_ Whi...   \n",
            "112  (marital-status_ Married-civ-spouse, race_ Whi...   \n",
            "78   (marital-status_ Married-civ-spouse, native-co...   \n",
            "128  (native-country_ United-States, marital-status...   \n",
            "12                (marital-status_ Married-civ-spouse)   \n",
            "36   (marital-status_ Married-civ-spouse, workclass...   \n",
            "158  (marital-status_ Married-civ-spouse, race_ White)   \n",
            "159  (marital-status_ Married-civ-spouse, native-co...   \n",
            "\n",
            "                                    consequents  antecedent support  \\\n",
            "154                                 (sex_ Male)            0.393011   \n",
            "66                                  (sex_ Male)            0.419601   \n",
            "168                                 (sex_ Male)            0.263311   \n",
            "112                                 (sex_ Male)            0.283801   \n",
            "78                                  (sex_ Male)            0.424309   \n",
            "128                                 (sex_ Male)            0.284829   \n",
            "12                                  (sex_ Male)            0.466315   \n",
            "36                                  (sex_ Male)            0.316624   \n",
            "158  (native-country_ United-States, sex_ Male)            0.419601   \n",
            "159                    (race_ White, sex_ Male)            0.424309   \n",
            "\n",
            "     consequent support   support  confidence      lift  leverage  conviction  \\\n",
            "154            0.675685  0.355116    0.903577  1.337276  0.089564    3.363460   \n",
            "66             0.675685  0.378489    0.902023  1.334976  0.094972    3.310109   \n",
            "168            0.675685  0.237318    0.901284  1.333883  0.059403    3.285348   \n",
            "112            0.675685  0.255255    0.899416  1.331118  0.063495    3.224320   \n",
            "78             0.675685  0.381208    0.898422  1.329646  0.094509    3.192760   \n",
            "128            0.675685  0.254990    0.895239  1.324936  0.062535    3.095770   \n",
            "12             0.675685  0.417247    0.894774  1.324248  0.102165    3.082092   \n",
            "36             0.675685  0.282010    0.890681  1.318190  0.068073    2.966678   \n",
            "158            0.615742  0.355116    0.846318  1.374469  0.096750    2.500346   \n",
            "159            0.598037  0.355116    0.836928  1.399457  0.101363    2.464935   \n",
            "\n",
            "     zhangs_metric  \n",
            "154       0.415512  \n",
            "66        0.432328  \n",
            "168       0.339776  \n",
            "112       0.347322  \n",
            "78        0.430648  \n",
            "128       0.342920  \n",
            "12        0.458800  \n",
            "36        0.353222  \n",
            "158       0.469412  \n",
            "159       0.495817  \n"
          ]
        },
        {
          "output_type": "stream",
          "name": "stderr",
          "text": [
            "/usr/local/lib/python3.10/dist-packages/mlxtend/frequent_patterns/fpcommon.py:110: DeprecationWarning: DataFrames with non-bool types result in worse computationalperformance and their support might be discontinued in the future.Please use a DataFrame with bool type\n",
            "  warnings.warn(\n"
          ]
        }
      ]
    },
    {
      "cell_type": "markdown",
      "source": [
        "**QUESTIONS**:Employment Patterns:\n",
        "Which combinations of workclass, occupation, and education tend to co-occur?\n",
        "Are there any association rules indicating specific occupations related to higher income levels?\n",
        "Demographic Insights:\n",
        "What are the relationships between age, education, and marital status?\n",
        "Do certain native countries correlate with particular education levels or occupations?\n",
        "Income Predictors:\n",
        "Can we identify patterns in capital gains/losses, hours worked per week, and income levels?\n",
        "Are there any association rules linking specific demographic attributes (e.g., age, sex, race) with income?\n",
        "Social Dynamics:\n",
        "How do relationship types correlate with education levels or occupations?\n",
        "Are there any patterns regarding race or sex in relation to marital status or occupation?"
      ],
      "metadata": {
        "id": "R1VoiCC27mmE"
      }
    },
    {
      "cell_type": "code",
      "source": [
        "selected_categorical_cols = [\n",
        "    'workclass', 'education', 'marital-status', 'occupation',\n",
        "    'relationship', 'race', 'sex', 'native-country'\n",
        "]\n",
        "selected_columns = []\n",
        "for column in encoded_categorical_cols.columns:\n",
        "    for category in selected_categorical_cols:\n",
        "        if column.startswith(category):\n",
        "            selected_columns.append(column)\n",
        "            break\n",
        "for support in support_values:\n",
        "    for confidence in confidence_values:\n",
        "        frequent_itemsets = apriori(encoded_categorical_cols[selected_columns], min_support=support, use_colnames=True)\n",
        "        rules = association_rules(frequent_itemsets, metric=\"confidence\", min_threshold=confidence)\n",
        "        top_10_rules = rules.nlargest(10, 'confidence')\n",
        "        print(f\"\\nTop 10 Association Rules based on Confidence (Support={support}, Confidence={confidence}):\")\n",
        "        print(top_10_rules)"
      ],
      "metadata": {
        "colab": {
          "base_uri": "https://localhost:8080/"
        },
        "id": "Ee7Kwt367s1S",
        "outputId": "4e58b4b9-c811-4893-a66e-65a511136078"
      },
      "execution_count": null,
      "outputs": [
        {
          "output_type": "stream",
          "name": "stderr",
          "text": [
            "/usr/local/lib/python3.10/dist-packages/ipykernel/ipkernel.py:283: DeprecationWarning: `should_run_async` will not call `transform_cell` automatically in the future. Please pass the result to `transformed_cell` argument and any exception that happen during thetransform in `preprocessing_exc_tuple` in IPython 7.17 and above.\n",
            "  and should_run_async(code)\n",
            "/usr/local/lib/python3.10/dist-packages/mlxtend/frequent_patterns/fpcommon.py:110: DeprecationWarning: DataFrames with non-bool types result in worse computationalperformance and their support might be discontinued in the future.Please use a DataFrame with bool type\n",
            "  warnings.warn(\n"
          ]
        },
        {
          "output_type": "stream",
          "name": "stdout",
          "text": [
            "\n",
            "Top 10 Association Rules based on Confidence (Support=0.1, Confidence=0.7):\n",
            "                                           antecedents  \\\n",
            "146                   (race_ White, occupation_ Sales)   \n",
            "292  (marital-status_ Married-civ-spouse, race_ Whi...   \n",
            "240  (race_ White, education_ Some-college, sex_ Male)   \n",
            "140         (race_ White, occupation_ Exec-managerial)   \n",
            "223     (sex_ Male, race_ White, education_ Bachelors)   \n",
            "254  (relationship_ Own-child, marital-status_ Neve...   \n",
            "105             (race_ White, education_ Some-college)   \n",
            "230  (marital-status_ Married-civ-spouse, race_ Whi...   \n",
            "262  (native-country_ United-States, race_ White, o...   \n",
            "237       (race_ White, education_ HS-grad, sex_ Male)   \n",
            "\n",
            "                         consequents  antecedent support  consequent support  \\\n",
            "146  (native-country_ United-States)            0.105829            0.911876   \n",
            "292  (native-country_ United-States)            0.122770            0.911876   \n",
            "240  (native-country_ United-States)            0.121942            0.911876   \n",
            "140  (native-country_ United-States)            0.119190            0.911876   \n",
            "223  (native-country_ United-States)            0.105630            0.911876   \n",
            "254  (native-country_ United-States)            0.110304            0.911876   \n",
            "105  (native-country_ United-States)            0.189145            0.911876   \n",
            "230  (native-country_ United-States)            0.136231            0.911876   \n",
            "262                      (sex_ Male)            0.112426            0.675685   \n",
            "237  (native-country_ United-States)            0.196373            0.911876   \n",
            "\n",
            "      support  confidence      lift  leverage  conviction  zhangs_metric  \n",
            "146  0.101618    0.960213  1.053008  0.005115    2.214899       0.056298  \n",
            "292  0.117731    0.958952  1.051626  0.005780    2.146866       0.055962  \n",
            "240  0.116836    0.958129  1.050724  0.005640    2.104679       0.054979  \n",
            "140  0.114183    0.957997  1.050579  0.005497    2.098055       0.054658  \n",
            "223  0.101121    0.957313  1.049828  0.004800    2.064437       0.053069  \n",
            "254  0.105530    0.956718  1.049175  0.004946    2.036035       0.052682  \n",
            "105  0.180724    0.955478  1.047815  0.008247    1.979323       0.056278  \n",
            "230  0.130164    0.955464  1.047800  0.005938    1.978700       0.052814  \n",
            "262  0.107287    0.954291  1.412332  0.031323    7.095183       0.328932  \n",
            "237  0.187388    0.954246  1.046465  0.008320    1.926049       0.055252  \n"
          ]
        },
        {
          "output_type": "stream",
          "name": "stderr",
          "text": [
            "/usr/local/lib/python3.10/dist-packages/mlxtend/frequent_patterns/fpcommon.py:110: DeprecationWarning: DataFrames with non-bool types result in worse computationalperformance and their support might be discontinued in the future.Please use a DataFrame with bool type\n",
            "  warnings.warn(\n"
          ]
        },
        {
          "output_type": "stream",
          "name": "stdout",
          "text": [
            "\n",
            "Top 10 Association Rules based on Confidence (Support=0.1, Confidence=0.8):\n",
            "                                           antecedents  \\\n",
            "113                   (race_ White, occupation_ Sales)   \n",
            "227  (marital-status_ Married-civ-spouse, race_ Whi...   \n",
            "185  (race_ White, education_ Some-college, sex_ Male)   \n",
            "107         (race_ White, occupation_ Exec-managerial)   \n",
            "169     (sex_ Male, race_ White, education_ Bachelors)   \n",
            "198  (relationship_ Own-child, marital-status_ Neve...   \n",
            "74              (race_ White, education_ Some-college)   \n",
            "176  (marital-status_ Married-civ-spouse, race_ Whi...   \n",
            "203  (native-country_ United-States, race_ White, o...   \n",
            "182       (race_ White, education_ HS-grad, sex_ Male)   \n",
            "\n",
            "                         consequents  antecedent support  consequent support  \\\n",
            "113  (native-country_ United-States)            0.105829            0.911876   \n",
            "227  (native-country_ United-States)            0.122770            0.911876   \n",
            "185  (native-country_ United-States)            0.121942            0.911876   \n",
            "107  (native-country_ United-States)            0.119190            0.911876   \n",
            "169  (native-country_ United-States)            0.105630            0.911876   \n",
            "198  (native-country_ United-States)            0.110304            0.911876   \n",
            "74   (native-country_ United-States)            0.189145            0.911876   \n",
            "176  (native-country_ United-States)            0.136231            0.911876   \n",
            "203                      (sex_ Male)            0.112426            0.675685   \n",
            "182  (native-country_ United-States)            0.196373            0.911876   \n",
            "\n",
            "      support  confidence      lift  leverage  conviction  zhangs_metric  \n",
            "113  0.101618    0.960213  1.053008  0.005115    2.214899       0.056298  \n",
            "227  0.117731    0.958952  1.051626  0.005780    2.146866       0.055962  \n",
            "185  0.116836    0.958129  1.050724  0.005640    2.104679       0.054979  \n",
            "107  0.114183    0.957997  1.050579  0.005497    2.098055       0.054658  \n",
            "169  0.101121    0.957313  1.049828  0.004800    2.064437       0.053069  \n",
            "198  0.105530    0.956718  1.049175  0.004946    2.036035       0.052682  \n",
            "74   0.180724    0.955478  1.047815  0.008247    1.979323       0.056278  \n",
            "176  0.130164    0.955464  1.047800  0.005938    1.978700       0.052814  \n",
            "203  0.107287    0.954291  1.412332  0.031323    7.095183       0.328932  \n",
            "182  0.187388    0.954246  1.046465  0.008320    1.926049       0.055252  \n",
            "\n",
            "Top 10 Association Rules based on Confidence (Support=0.2, Confidence=0.7):\n",
            "                                          antecedents  \\\n",
            "43                  (race_ White, education_ HS-grad)   \n",
            "66  (race_ White, education_ HS-grad, workclass_ P...   \n",
            "59         (race_ White, relationship_ Not-in-family)   \n",
            "45                    (education_ HS-grad, sex_ Male)   \n",
            "88  (marital-status_ Married-civ-spouse, race_ Whi...   \n",
            "9                           (education_ Some-college)   \n",
            "49  (marital-status_ Married-civ-spouse, race_ White)   \n",
            "8                                (education_ HS-grad)   \n",
            "62                           (race_ White, sex_ Male)   \n",
            "19                                      (race_ White)   \n",
            "\n",
            "                        consequents  antecedent support  consequent support  \\\n",
            "43  (native-country_ United-States)            0.278529            0.911876   \n",
            "66  (native-country_ United-States)            0.217260            0.911876   \n",
            "59  (native-country_ United-States)            0.221338            0.911876   \n",
            "45  (native-country_ United-States)            0.223261            0.911876   \n",
            "88  (native-country_ United-States)            0.378489            0.911876   \n",
            "9   (native-country_ United-States)            0.221404            0.911876   \n",
            "49  (native-country_ United-States)            0.419601            0.911876   \n",
            "8   (native-country_ United-States)            0.326238            0.911876   \n",
            "62  (native-country_ United-States)            0.598037            0.911876   \n",
            "19  (native-country_ United-States)            0.859790            0.911876   \n",
            "\n",
            "     support  confidence      lift  leverage  conviction  zhangs_metric  \n",
            "43  0.264704    0.950363  1.042207  0.010720    1.775374       0.056132  \n",
            "66  0.205689    0.946742  1.038236  0.007575    1.654663       0.047049  \n",
            "59  0.208176    0.940533  1.031427  0.006343    1.481906       0.039130  \n",
            "45  0.209933    0.940303  1.031174  0.006347    1.476189       0.038921  \n",
            "88  0.355116    0.938245  1.028917  0.009980    1.426986       0.045219  \n",
            "9   0.207546    0.937406  1.027998  0.005653    1.407878       0.034980  \n",
            "49  0.393011    0.936631  1.027147  0.010387    1.390647       0.045537  \n",
            "8   0.305318    0.935874  1.026317  0.007829    1.374234       0.038059  \n",
            "62  0.558584    0.934028  1.024293  0.013248    1.335784       0.059003  \n",
            "19  0.802931    0.933868  1.024118  0.018909    1.332550       0.167960  \n",
            "\n",
            "Top 10 Association Rules based on Confidence (Support=0.2, Confidence=0.8):\n",
            "                                          antecedents  \\\n",
            "31                  (race_ White, education_ HS-grad)   \n",
            "52  (race_ White, education_ HS-grad, workclass_ P...   \n",
            "46         (race_ White, relationship_ Not-in-family)   \n",
            "33                    (education_ HS-grad, sex_ Male)   \n",
            "70  (marital-status_ Married-civ-spouse, race_ Whi...   \n",
            "5                           (education_ Some-college)   \n",
            "37  (marital-status_ Married-civ-spouse, race_ White)   \n",
            "4                                (education_ HS-grad)   \n",
            "49                           (race_ White, sex_ Male)   \n",
            "15                                      (race_ White)   \n",
            "\n",
            "                        consequents  antecedent support  consequent support  \\\n",
            "31  (native-country_ United-States)            0.278529            0.911876   \n",
            "52  (native-country_ United-States)            0.217260            0.911876   \n",
            "46  (native-country_ United-States)            0.221338            0.911876   \n",
            "33  (native-country_ United-States)            0.223261            0.911876   \n",
            "70  (native-country_ United-States)            0.378489            0.911876   \n",
            "5   (native-country_ United-States)            0.221404            0.911876   \n",
            "37  (native-country_ United-States)            0.419601            0.911876   \n",
            "4   (native-country_ United-States)            0.326238            0.911876   \n",
            "49  (native-country_ United-States)            0.598037            0.911876   \n",
            "15  (native-country_ United-States)            0.859790            0.911876   \n",
            "\n",
            "     support  confidence      lift  leverage  conviction  zhangs_metric  \n",
            "31  0.264704    0.950363  1.042207  0.010720    1.775374       0.056132  \n",
            "52  0.205689    0.946742  1.038236  0.007575    1.654663       0.047049  \n",
            "46  0.208176    0.940533  1.031427  0.006343    1.481906       0.039130  \n",
            "33  0.209933    0.940303  1.031174  0.006347    1.476189       0.038921  \n",
            "70  0.355116    0.938245  1.028917  0.009980    1.426986       0.045219  \n",
            "5   0.207546    0.937406  1.027998  0.005653    1.407878       0.034980  \n",
            "37  0.393011    0.936631  1.027147  0.010387    1.390647       0.045537  \n",
            "4   0.305318    0.935874  1.026317  0.007829    1.374234       0.038059  \n",
            "49  0.558584    0.934028  1.024293  0.013248    1.335784       0.059003  \n",
            "15  0.802931    0.933868  1.024118  0.018909    1.332550       0.167960  \n"
          ]
        },
        {
          "output_type": "stream",
          "name": "stderr",
          "text": [
            "/usr/local/lib/python3.10/dist-packages/mlxtend/frequent_patterns/fpcommon.py:110: DeprecationWarning: DataFrames with non-bool types result in worse computationalperformance and their support might be discontinued in the future.Please use a DataFrame with bool type\n",
            "  warnings.warn(\n",
            "/usr/local/lib/python3.10/dist-packages/mlxtend/frequent_patterns/fpcommon.py:110: DeprecationWarning: DataFrames with non-bool types result in worse computationalperformance and their support might be discontinued in the future.Please use a DataFrame with bool type\n",
            "  warnings.warn(\n"
          ]
        }
      ]
    },
    {
      "cell_type": "code",
      "source": [
        "print(encoded_categorical_cols.columns)\n"
      ],
      "metadata": {
        "colab": {
          "base_uri": "https://localhost:8080/"
        },
        "id": "sy-d3Pi272gl",
        "outputId": "9ac2774b-21e6-4c11-8a47-aa1a5d01278d"
      },
      "execution_count": null,
      "outputs": [
        {
          "output_type": "stream",
          "name": "stdout",
          "text": [
            "Index(['workclass_ Local-gov', 'workclass_ Private', 'workclass_ Self-emp-inc',\n",
            "       'workclass_ Self-emp-not-inc', 'workclass_ State-gov',\n",
            "       'workclass_ Without-pay', 'education_ 11th', 'education_ 12th',\n",
            "       'education_ 1st-4th', 'education_ 5th-6th', 'education_ 7th-8th',\n",
            "       'education_ 9th', 'education_ Assoc-acdm', 'education_ Assoc-voc',\n",
            "       'education_ Bachelors', 'education_ Doctorate', 'education_ HS-grad',\n",
            "       'education_ Masters', 'education_ Preschool', 'education_ Prof-school',\n",
            "       'education_ Some-college', 'marital-status_ Married-AF-spouse',\n",
            "       'marital-status_ Married-civ-spouse',\n",
            "       'marital-status_ Married-spouse-absent',\n",
            "       'marital-status_ Never-married', 'marital-status_ Separated',\n",
            "       'marital-status_ Widowed', 'occupation_ Armed-Forces',\n",
            "       'occupation_ Craft-repair', 'occupation_ Exec-managerial',\n",
            "       'occupation_ Farming-fishing', 'occupation_ Handlers-cleaners',\n",
            "       'occupation_ Machine-op-inspct', 'occupation_ Other-service',\n",
            "       'occupation_ Priv-house-serv', 'occupation_ Prof-specialty',\n",
            "       'occupation_ Protective-serv', 'occupation_ Sales',\n",
            "       'occupation_ Tech-support', 'occupation_ Transport-moving',\n",
            "       'relationship_ Not-in-family', 'relationship_ Other-relative',\n",
            "       'relationship_ Own-child', 'relationship_ Unmarried',\n",
            "       'relationship_ Wife', 'race_ Asian-Pac-Islander', 'race_ Black',\n",
            "       'race_ Other', 'race_ White', 'sex_ Male', 'native-country_ Canada',\n",
            "       'native-country_ China', 'native-country_ Columbia',\n",
            "       'native-country_ Cuba', 'native-country_ Dominican-Republic',\n",
            "       'native-country_ Ecuador', 'native-country_ El-Salvador',\n",
            "       'native-country_ England', 'native-country_ France',\n",
            "       'native-country_ Germany', 'native-country_ Greece',\n",
            "       'native-country_ Guatemala', 'native-country_ Haiti',\n",
            "       'native-country_ Holand-Netherlands', 'native-country_ Honduras',\n",
            "       'native-country_ Hong', 'native-country_ Hungary',\n",
            "       'native-country_ India', 'native-country_ Iran',\n",
            "       'native-country_ Ireland', 'native-country_ Italy',\n",
            "       'native-country_ Jamaica', 'native-country_ Japan',\n",
            "       'native-country_ Laos', 'native-country_ Mexico',\n",
            "       'native-country_ Nicaragua',\n",
            "       'native-country_ Outlying-US(Guam-USVI-etc)', 'native-country_ Peru',\n",
            "       'native-country_ Philippines', 'native-country_ Poland',\n",
            "       'native-country_ Portugal', 'native-country_ Puerto-Rico',\n",
            "       'native-country_ Scotland', 'native-country_ South',\n",
            "       'native-country_ Taiwan', 'native-country_ Thailand',\n",
            "       'native-country_ Trinadad&Tobago', 'native-country_ United-States',\n",
            "       'native-country_ Vietnam', 'native-country_ Yugoslavia'],\n",
            "      dtype='object')\n"
          ]
        },
        {
          "output_type": "stream",
          "name": "stderr",
          "text": [
            "/usr/local/lib/python3.10/dist-packages/ipykernel/ipkernel.py:283: DeprecationWarning: `should_run_async` will not call `transform_cell` automatically in the future. Please pass the result to `transformed_cell` argument and any exception that happen during thetransform in `preprocessing_exc_tuple` in IPython 7.17 and above.\n",
            "  and should_run_async(code)\n"
          ]
        }
      ]
    },
    {
      "cell_type": "code",
      "source": [
        "print(\"Columns of preprocessed data:\")\n",
        "print(preprocessed_data.columns)"
      ],
      "metadata": {
        "colab": {
          "base_uri": "https://localhost:8080/"
        },
        "id": "YQJfVHrT4Rnk",
        "outputId": "fd835654-33c9-4254-e9ac-9136b193c595"
      },
      "execution_count": null,
      "outputs": [
        {
          "output_type": "stream",
          "name": "stdout",
          "text": [
            "Columns of preprocessed data:\n",
            "Index(['workclass_ Local-gov', 'workclass_ Private', 'workclass_ Self-emp-inc',\n",
            "       'workclass_ Self-emp-not-inc', 'workclass_ State-gov',\n",
            "       'workclass_ Without-pay', 'education_ 11th', 'education_ 12th',\n",
            "       'education_ 1st-4th', 'education_ 5th-6th', 'education_ 7th-8th',\n",
            "       'education_ 9th', 'education_ Assoc-acdm', 'education_ Assoc-voc',\n",
            "       'education_ Bachelors', 'education_ Doctorate', 'education_ HS-grad',\n",
            "       'education_ Masters', 'education_ Preschool', 'education_ Prof-school',\n",
            "       'education_ Some-college', 'marital-status_ Married-AF-spouse',\n",
            "       'marital-status_ Married-civ-spouse',\n",
            "       'marital-status_ Married-spouse-absent',\n",
            "       'marital-status_ Never-married', 'marital-status_ Separated',\n",
            "       'marital-status_ Widowed', 'occupation_ Armed-Forces',\n",
            "       'occupation_ Craft-repair', 'occupation_ Exec-managerial',\n",
            "       'occupation_ Farming-fishing', 'occupation_ Handlers-cleaners',\n",
            "       'occupation_ Machine-op-inspct', 'occupation_ Other-service',\n",
            "       'occupation_ Priv-house-serv', 'occupation_ Prof-specialty',\n",
            "       'occupation_ Protective-serv', 'occupation_ Sales',\n",
            "       'occupation_ Tech-support', 'occupation_ Transport-moving',\n",
            "       'relationship_ Not-in-family', 'relationship_ Other-relative',\n",
            "       'relationship_ Own-child', 'relationship_ Unmarried',\n",
            "       'relationship_ Wife', 'race_ Asian-Pac-Islander', 'race_ Black',\n",
            "       'race_ Other', 'race_ White', 'sex_ Male', 'native-country_ Canada',\n",
            "       'native-country_ China', 'native-country_ Columbia',\n",
            "       'native-country_ Cuba', 'native-country_ Dominican-Republic',\n",
            "       'native-country_ Ecuador', 'native-country_ El-Salvador',\n",
            "       'native-country_ England', 'native-country_ France',\n",
            "       'native-country_ Germany', 'native-country_ Greece',\n",
            "       'native-country_ Guatemala', 'native-country_ Haiti',\n",
            "       'native-country_ Holand-Netherlands', 'native-country_ Honduras',\n",
            "       'native-country_ Hong', 'native-country_ Hungary',\n",
            "       'native-country_ India', 'native-country_ Iran',\n",
            "       'native-country_ Ireland', 'native-country_ Italy',\n",
            "       'native-country_ Jamaica', 'native-country_ Japan',\n",
            "       'native-country_ Laos', 'native-country_ Mexico',\n",
            "       'native-country_ Nicaragua',\n",
            "       'native-country_ Outlying-US(Guam-USVI-etc)', 'native-country_ Peru',\n",
            "       'native-country_ Philippines', 'native-country_ Poland',\n",
            "       'native-country_ Portugal', 'native-country_ Puerto-Rico',\n",
            "       'native-country_ Scotland', 'native-country_ South',\n",
            "       'native-country_ Taiwan', 'native-country_ Thailand',\n",
            "       'native-country_ Trinadad&Tobago', 'native-country_ United-States',\n",
            "       'native-country_ Vietnam', 'native-country_ Yugoslavia', 'age',\n",
            "       'fnlwgt', 'education-num', 'capital-gain', 'capital-loss',\n",
            "       'hours-per-week'],\n",
            "      dtype='object')\n"
          ]
        },
        {
          "output_type": "stream",
          "name": "stderr",
          "text": [
            "/usr/local/lib/python3.10/dist-packages/ipykernel/ipkernel.py:283: DeprecationWarning: `should_run_async` will not call `transform_cell` automatically in the future. Please pass the result to `transformed_cell` argument and any exception that happen during thetransform in `preprocessing_exc_tuple` in IPython 7.17 and above.\n",
            "  and should_run_async(code)\n"
          ]
        }
      ]
    },
    {
      "cell_type": "code",
      "source": [
        "print(rules_interest['leverage'].dtype)\n"
      ],
      "metadata": {
        "colab": {
          "base_uri": "https://localhost:8080/"
        },
        "id": "bbXH5HMH1DwY",
        "outputId": "904833a6-0a9d-4c96-a228-dec482a93fae"
      },
      "execution_count": null,
      "outputs": [
        {
          "output_type": "stream",
          "name": "stdout",
          "text": [
            "object\n"
          ]
        },
        {
          "output_type": "stream",
          "name": "stderr",
          "text": [
            "/usr/local/lib/python3.10/dist-packages/ipykernel/ipkernel.py:283: DeprecationWarning: `should_run_async` will not call `transform_cell` automatically in the future. Please pass the result to `transformed_cell` argument and any exception that happen during thetransform in `preprocessing_exc_tuple` in IPython 7.17 and above.\n",
            "  and should_run_async(code)\n"
          ]
        }
      ]
    },
    {
      "cell_type": "markdown",
      "source": [
        "Rule 1 (Confidence Rule):\n",
        "If occupation is 'Exec-managerial' and education is 'Masters', then income is '>50K'.\n",
        "Explanation: This rule suggests that individuals with an executive managerial occupation and a Masters education are likely to have income above 50K.\n",
        "Recommendation: Based on this rule, organizations might target individuals with similar demographics for high-income job opportunities or financial services.\n",
        "Rule 2 (Lift Rule):\n",
        "If marital-status is 'Married-civ-spouse' and education is 'Masters', then income is '>50K'.\n",
        "Explanation: This rule indicates a strong relationship between being married and having a Masters education with a higher income.\n",
        "Recommendation: Businesses could tailor their products or services to meet the needs of married individuals with higher education levels.\n",
        "Rule 3 (Interest Rule):\n",
        "If occupation is 'Exec-managerial' and marital-status is 'Married-civ-spouse', then income is '>50K'.\n",
        "Explanation: This rule suggests that individuals in executive managerial positions who are married have a higher likelihood of having income above 50K.\n",
        "Recommendation: Employers might offer incentives or benefits targeted towards married employees in managerial roles.\n",
        "Rule 4 (Conviction Rule):\n",
        "If occupation is 'Prof-specialty' and education is 'Masters', then income is '>50K'.\n",
        "Explanation: This rule indicates a strong conviction that individuals with a professional specialty occupation and a Masters education have income above 50K.\n",
        "Recommendation: Educational institutions or training programs might target professionals with specific specialties to pursue higher education or certifications for better income prospects.\n"
      ],
      "metadata": {
        "id": "tZmG7oAxyDN_"
      }
    }
  ]
}